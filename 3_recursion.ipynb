{
 "cells": [
  {
   "cell_type": "code",
   "execution_count": 5,
   "id": "f07976a3-ca20-4e56-b9c1-77534a981319",
   "metadata": {},
   "outputs": [
    {
     "name": "stdin",
     "output_type": "stream",
     "text": [
      "Eenter the number: 20\n"
     ]
    },
    {
     "name": "stdout",
     "output_type": "stream",
     "text": [
      "1 2 3 4 5 6 7 8 9 10 11 12 13 14 15 16 17 18 19 20 "
     ]
    }
   ],
   "source": [
    "def num(n):\n",
    "    if n>0:\n",
    "        num(n-1)\n",
    "        print(n,end=\" \")\n",
    "n=int(input(\"Eenter the number:\"))\n",
    "num(n)"
   ]
  },
  {
   "cell_type": "code",
   "execution_count": null,
   "id": "939d4d18-d7c7-49db-b501-93b5269bcb42",
   "metadata": {},
   "outputs": [],
   "source": []
  }
 ],
 "metadata": {
  "kernelspec": {
   "display_name": "Python 3 (ipykernel)",
   "language": "python",
   "name": "python3"
  },
  "language_info": {
   "codemirror_mode": {
    "name": "ipython",
    "version": 3
   },
   "file_extension": ".py",
   "mimetype": "text/x-python",
   "name": "python",
   "nbconvert_exporter": "python",
   "pygments_lexer": "ipython3",
   "version": "3.11.9"
  }
 },
 "nbformat": 4,
 "nbformat_minor": 5
}
