{
 "cells": [
  {
   "cell_type": "code",
   "execution_count": 6,
   "id": "94d5838c-c458-4a83-8700-6f6cd1b61b22",
   "metadata": {},
   "outputs": [
    {
     "name": "stdin",
     "output_type": "stream",
     "text": [
      "Enter the number 25\n"
     ]
    },
    {
     "name": "stdout",
     "output_type": "stream",
     "text": [
      "1 5 \n",
      "Number is not a Perfect Number.\n"
     ]
    }
   ],
   "source": [
    "# Perfect Number by using For_loop\n",
    "Input_Number = int(input(\"Enter the number\"))\n",
    "Sum = 0\n",
    "for i in range(1, Input_Number):\n",
    "    if(Input_Number % i == 0):\n",
    "        Sum = Sum + i\n",
    "        print(i,end=\" \")\n",
    "if (Sum == Input_Number):\n",
    "    print(\"\\nNumber is a Perfect Number\")\n",
    "else:\n",
    "    print(\"\\nNumber is not a Perfect Number.\")\n"
   ]
  },
  {
   "cell_type": "code",
   "execution_count": null,
   "id": "05a854fd-e4af-4f33-a6d7-da9affd936be",
   "metadata": {},
   "outputs": [],
   "source": []
  }
 ],
 "metadata": {
  "kernelspec": {
   "display_name": "Python 3 (ipykernel)",
   "language": "python",
   "name": "python3"
  },
  "language_info": {
   "codemirror_mode": {
    "name": "ipython",
    "version": 3
   },
   "file_extension": ".py",
   "mimetype": "text/x-python",
   "name": "python",
   "nbconvert_exporter": "python",
   "pygments_lexer": "ipython3",
   "version": "3.11.9"
  }
 },
 "nbformat": 4,
 "nbformat_minor": 5
}
