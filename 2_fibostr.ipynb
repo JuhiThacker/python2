{
 "cells": [
  {
   "cell_type": "code",
   "execution_count": 5,
   "id": "93755079-cadc-4730-a933-4e39f59b77b0",
   "metadata": {},
   "outputs": [
    {
     "name": "stdin",
     "output_type": "stream",
     "text": [
      "Enter the number 4\n"
     ]
    },
    {
     "name": "stdout",
     "output_type": "stream",
     "text": [
      "A  B BA BAB BABBA "
     ]
    }
   ],
   "source": [
    "n=int(input(\"Enter the number\"))\n",
    "str1=\"A\"\n",
    "str2=\"B\"\n",
    "print( str1 ,\"\",str2,end=\" \")\n",
    "for  i in range(1,n):\n",
    "    \n",
    "    next_str=str2+str1\n",
    "    print(next_str,end=\" \")\n",
    "    str1=str2\n",
    "    str2=next_str\n",
    "\n"
   ]
  },
  {
   "cell_type": "code",
   "execution_count": null,
   "id": "49fa0c5c-418b-4893-9fd7-43c7c7b49957",
   "metadata": {},
   "outputs": [],
   "source": []
  }
 ],
 "metadata": {
  "kernelspec": {
   "display_name": "Python 3 (ipykernel)",
   "language": "python",
   "name": "python3"
  },
  "language_info": {
   "codemirror_mode": {
    "name": "ipython",
    "version": 3
   },
   "file_extension": ".py",
   "mimetype": "text/x-python",
   "name": "python",
   "nbconvert_exporter": "python",
   "pygments_lexer": "ipython3",
   "version": "3.11.9"
  }
 },
 "nbformat": 4,
 "nbformat_minor": 5
}
