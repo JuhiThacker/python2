{
 "cells": [
  {
   "cell_type": "code",
   "execution_count": 12,
   "id": "88e104f8-48ed-40e0-a518-cff6702cee92",
   "metadata": {},
   "outputs": [
    {
     "name": "stdout",
     "output_type": "stream",
     "text": [
      "Enter tha length of array 5\n",
      "Enter the value: 1 2 3 4 5 \n",
      "Enter search 2\n"
     ]
    },
    {
     "name": "stdout",
     "output_type": "stream",
     "text": [
      "Element is present at index 8\n"
     ]
    }
   ],
   "source": [
    "#binary search\n",
    "def binary_search(arr, x):\n",
    "\tlow = 0\n",
    "\thigh = len(arr) - 1\n",
    "\tmid = 0\n",
    "\n",
    "\twhile low <= high:\n",
    "\n",
    "\t\tmid = (high + low) // 2\n",
    "\t\tif arr[mid] < x:\n",
    "\t\t\tlow = mid + 1\n",
    "\t\telif arr[mid] > x:\n",
    "\t\t\thigh = mid - 1\n",
    "\t\telse:\n",
    "\t\t\treturn mid\n",
    "\treturn -1\n",
    "x=(input(\"Enter tha length of array\"))\n",
    "arr = list(input(\"Enter the value:\"))\n",
    "s=int(input(\"Enter search\"))\n",
    "\n",
    "result = binary_search(arr, x)\n",
    "\n",
    "if result != -1:\n",
    "\tprint(\"Element is present at index\", str(result))\n",
    "else:\n",
    "\tprint(\"Element is not present in array\")\n"
   ]
  },
  {
   "cell_type": "code",
   "execution_count": 8,
   "id": "96cbd039-c590-40b5-99d7-c1c644a4c0f5",
   "metadata": {},
   "outputs": [
    {
     "name": "stdout",
     "output_type": "stream",
     "text": [
      "Enter a sorted list of integers separated by spaces:  1 2 3 4 5 \n",
      "Enter the integer to search for:  3\n"
     ]
    },
    {
     "name": "stdout",
     "output_type": "stream",
     "text": [
      "Value 3 found at index 2.\n"
     ]
    }
   ],
   "source": [
    "def binary_search(arr, target):\n",
    "\n",
    "    left, right = 0, len(arr) - 1\n",
    "\n",
    "    while left <= right:\n",
    "        mid = (left + right) // 2\n",
    "\n",
    "        if arr[mid] == target:\n",
    "            return mid\n",
    "        elif arr[mid] < target:\n",
    "            left = mid + 1\n",
    "        else:\n",
    "            right = mid - 1\n",
    "\n",
    "    return -1\n",
    "\n",
    "def main():\n",
    "    # Input: List of integers\n",
    "    input_list = input(\"Enter a sorted list of integers separated by spaces: \")\n",
    "    arr = list(map(int, input_list.split()))\n",
    "\n",
    "    # Input: Target value\n",
    "    target = int(input(\"Enter the integer to search for: \"))\n",
    "\n",
    "    # Perform binary search\n",
    "    index = binary_search(arr, target)\n",
    "\n",
    "    # Output the result\n",
    "    if index != -1:\n",
    "        print(f\"Value {target} found at index {index}.\")\n",
    "    else:\n",
    "        print(f\"Value {target} not found in the list.\")\n",
    "\n",
    "if __name__ == \"__main__\":\n",
    "    main()"
   ]
  },
  {
   "cell_type": "code",
   "execution_count": null,
   "id": "9945347c-67ce-430e-9345-4bfb5fa500f5",
   "metadata": {},
   "outputs": [],
   "source": []
  }
 ],
 "metadata": {
  "kernelspec": {
   "display_name": "Python 3 (ipykernel)",
   "language": "python",
   "name": "python3"
  },
  "language_info": {
   "codemirror_mode": {
    "name": "ipython",
    "version": 3
   },
   "file_extension": ".py",
   "mimetype": "text/x-python",
   "name": "python",
   "nbconvert_exporter": "python",
   "pygments_lexer": "ipython3",
   "version": "3.11.9"
  }
 },
 "nbformat": 4,
 "nbformat_minor": 5
}
