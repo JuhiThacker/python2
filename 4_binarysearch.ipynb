def binary_search(arr, low, high, x):
    if low > high:
        return -1
    mid = (low + high) // 2
    if arr[mid] == x:
        return mid
    elif arr[mid] > x:
        return binary_search(arr, low, mid - 1, x)
    else:
        return binary_search(arr, mid + 1, high, x)
arr = list(map(int, input("Enter the sorted list of numbers (space-separated): ").split()))
x = int(input("Enter the number to search for: "))
result = binary_search(arr, 0, len(arr) - 1, x)
if result != -1:
    print(f"Element is present at index {result}")
else:
    print("Element is not present in the list)
